{
 "cells": [
  {
   "cell_type": "markdown",
   "id": "8e6063fe",
   "metadata": {},
   "source": [
    "## Question 2 (b)"
   ]
  },
  {
   "cell_type": "code",
   "execution_count": 1,
   "id": "d6c0e74f",
   "metadata": {},
   "outputs": [],
   "source": [
    "from nltk import Tree\n",
    "from pprint import pprint"
   ]
  },
  {
   "cell_type": "code",
   "execution_count": 2,
   "id": "c302638b",
   "metadata": {},
   "outputs": [],
   "source": [
    "allSentences = []\n",
    "allTrees = []\n",
    "with open('HW4/silly-corpus') as corpus:\n",
    "    for setence in corpus:\n",
    "        # remove the \"/\" around each word\n",
    "        clearSentence = setence.rstrip().replace(\"/\", \"\")\n",
    "        allSentences.append(clearSentence)\n",
    "        allTrees.append(Tree.fromstring(clearSentence))"
   ]
  },
  {
   "cell_type": "code",
   "execution_count": 3,
   "id": "12647b9f",
   "metadata": {},
   "outputs": [],
   "source": [
    "nonTerminalDict = {}\n",
    "ruleDict = {}"
   ]
  },
  {
   "cell_type": "code",
   "execution_count": 4,
   "id": "75c72ba5",
   "metadata": {},
   "outputs": [],
   "source": [
    "def updateNonTerminalDict(label):\n",
    "    if label not in nonTerminalDict:\n",
    "        # create a new key: value pair with key = label, value = 1\n",
    "        nonTerminalDict[label] = 1\n",
    "    else:\n",
    "        nonTerminalDict[label] += 1\n",
    "    return"
   ]
  },
  {
   "cell_type": "code",
   "execution_count": 5,
   "id": "17a622e2",
   "metadata": {},
   "outputs": [],
   "source": [
    "def updateRuleDict(rule):\n",
    "    if rule not in ruleDict:\n",
    "        # create a new key: value pair key = rule, value = 1\n",
    "        ruleDict[rule] = 1\n",
    "    else:\n",
    "        ruleDict[rule] += 1\n",
    "    return"
   ]
  },
  {
   "cell_type": "code",
   "execution_count": 6,
   "id": "448ceffc",
   "metadata": {},
   "outputs": [],
   "source": [
    "def parse(tree):    \n",
    "    stringifyNodes = \"\"\n",
    "    for node in tree:\n",
    "        if type(node) is not str:\n",
    "            stringifyNodes = stringifyNodes + str(node.label()) + \" \"\n",
    "            # parse subtree\n",
    "            parse(node)\n",
    "        else:\n",
    "            # add the child node and padding\n",
    "            stringifyNodes = stringifyNodes + node + \" \"   \n",
    "        \n",
    "    tLabel = tree.label()\n",
    "    stringifyNodes =  \" \".join(stringifyNodes.split())\n",
    "    rule = tLabel, stringifyNodes\n",
    "    \n",
    "    updateNonTerminalDict(tLabel)\n",
    "    updateRuleDict(rule)\n",
    "    return"
   ]
  },
  {
   "cell_type": "code",
   "execution_count": 7,
   "id": "0cb4df82",
   "metadata": {},
   "outputs": [],
   "source": [
    "# parse all trees \n",
    "# and update nonTerminalDict and ruleDict with all trees data\n",
    "for tree in allTrees:\n",
    "    parse(tree)"
   ]
  },
  {
   "cell_type": "code",
   "execution_count": 8,
   "id": "09b0d783",
   "metadata": {},
   "outputs": [
    {
     "name": "stdout",
     "output_type": "stream",
     "text": [
      "{'NP': 25, 'P': 4, 'PP': 4, 'S': 10, 'V': 10, 'VP': 13}\n"
     ]
    }
   ],
   "source": [
    "pprint(nonTerminalDict)"
   ]
  },
  {
   "cell_type": "code",
   "execution_count": 9,
   "id": "58a7aa8c",
   "metadata": {},
   "outputs": [
    {
     "name": "stdout",
     "output_type": "stream",
     "text": [
      "{('NP', 'John'): 10,\n",
      " ('NP', 'NP PP'): 1,\n",
      " ('NP', 'school'): 4,\n",
      " ('NP', 'soccer'): 10,\n",
      " ('P', 'at'): 4,\n",
      " ('PP', 'P NP'): 4,\n",
      " ('S', 'NP VP'): 10,\n",
      " ('V', 'plays'): 10,\n",
      " ('VP', 'V NP'): 10,\n",
      " ('VP', 'VP PP'): 3}\n"
     ]
    }
   ],
   "source": [
    "pprint(ruleDict)"
   ]
  },
  {
   "cell_type": "markdown",
   "id": "a387aa2c",
   "metadata": {},
   "source": [
    "### Compute estimates for the grammar probabilities based on silly-corpus"
   ]
  },
  {
   "cell_type": "code",
   "execution_count": 10,
   "id": "ebd36d35",
   "metadata": {},
   "outputs": [],
   "source": [
    "probabilities = {}\n",
    "\n",
    "for rule in ruleDict:\n",
    "    nonTermNum = nonTerminalDict[rule[0]]\n",
    "    ruleNum = ruleDict[rule]\n",
    "    prob = ruleNum/nonTermNum\n",
    "    \n",
    "    prettyRule = rule[0] + \" -> \" + rule[1]\n",
    "    \n",
    "    probabilities[prettyRule] = prob"
   ]
  },
  {
   "cell_type": "markdown",
   "id": "cd9382b6",
   "metadata": {},
   "source": [
    "Based on silly-corpus, the probability for each rule is:"
   ]
  },
  {
   "cell_type": "code",
   "execution_count": 11,
   "id": "9ae6903f",
   "metadata": {},
   "outputs": [
    {
     "name": "stdout",
     "output_type": "stream",
     "text": [
      "{'NP -> John': 0.4,\n",
      " 'NP -> NP PP': 0.04,\n",
      " 'NP -> school': 0.16,\n",
      " 'NP -> soccer': 0.4,\n",
      " 'P -> at': 1.0,\n",
      " 'PP -> P NP': 1.0,\n",
      " 'S -> NP VP': 1.0,\n",
      " 'V -> plays': 1.0,\n",
      " 'VP -> V NP': 0.7692307692307693,\n",
      " 'VP -> VP PP': 0.23076923076923078}\n"
     ]
    }
   ],
   "source": [
    "pprint(probabilities)"
   ]
  }
 ],
 "metadata": {
  "kernelspec": {
   "display_name": "Python 3.9 (tensorflow)",
   "language": "python",
   "name": "tensorflow"
  },
  "language_info": {
   "codemirror_mode": {
    "name": "ipython",
    "version": 3
   },
   "file_extension": ".py",
   "mimetype": "text/x-python",
   "name": "python",
   "nbconvert_exporter": "python",
   "pygments_lexer": "ipython3",
   "version": "3.9.12"
  }
 },
 "nbformat": 4,
 "nbformat_minor": 5
}
