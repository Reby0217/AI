{
 "cells": [
  {
   "cell_type": "markdown",
   "metadata": {},
   "source": [
    "#### Part b"
   ]
  },
  {
   "cell_type": "code",
   "execution_count": 287,
   "metadata": {},
   "outputs": [],
   "source": [
    "import random\n",
    "from random import choice\n",
    "from matplotlib import pyplot as plt "
   ]
  },
  {
   "cell_type": "code",
   "execution_count": 288,
   "metadata": {},
   "outputs": [],
   "source": [
    "def get_f_AB(A,B):\n",
    "    if A==0:\n",
    "        if B == 0:\n",
    "            return 30\n",
    "        elif B == 1:\n",
    "            return 5\n",
    "    elif A == 1:\n",
    "        if B == 0:\n",
    "            return 1\n",
    "        elif B == 1:\n",
    "            return 10"
   ]
  },
  {
   "cell_type": "code",
   "execution_count": 289,
   "metadata": {},
   "outputs": [],
   "source": [
    "def get_f_DA(D,A):\n",
    "    if D==0:\n",
    "        if A == 0:\n",
    "            return 100\n",
    "        elif A == 1:\n",
    "            return 1\n",
    "    elif D == 1:\n",
    "        if A == 0:\n",
    "            return 1\n",
    "        elif A == 1:\n",
    "            return 100"
   ]
  },
  {
   "cell_type": "code",
   "execution_count": 290,
   "metadata": {},
   "outputs": [],
   "source": [
    "def get_f_BC(B,C):\n",
    "    if B==0:\n",
    "        if C == 0:\n",
    "            return 100\n",
    "        elif C == 1:\n",
    "            return 1\n",
    "    elif B == 1:\n",
    "        if C == 0:\n",
    "            return 1\n",
    "        elif C == 1:\n",
    "            return 100"
   ]
  },
  {
   "cell_type": "code",
   "execution_count": 291,
   "metadata": {},
   "outputs": [],
   "source": [
    "def get_f_CD(C,D):\n",
    "    if C==0:\n",
    "        if D == 0:\n",
    "            return 1\n",
    "        elif D == 1:\n",
    "            return 100\n",
    "    elif C == 1:\n",
    "        if D == 0:\n",
    "            return 100\n",
    "        elif D == 1:\n",
    "            return 1"
   ]
  },
  {
   "cell_type": "code",
   "execution_count": 292,
   "metadata": {},
   "outputs": [],
   "source": [
    "def normalize(a,b):\n",
    "    total = a + b\n",
    "    return (a/total, b/total)\n",
    "\n",
    "def resample(probOfZeroVal):\n",
    "    # 1: true, 0: false\n",
    "    # |---0val---|-------1val------|\n",
    "    # 0                            1\n",
    "    return random.uniform(0,1) > probOfZeroVal"
   ]
  },
  {
   "cell_type": "code",
   "execution_count": 293,
   "metadata": {},
   "outputs": [],
   "source": [
    "def generate_sample(curr_sample_var, A,C,D):\n",
    "    B = 1  # observed value\n",
    "    if curr_sample_var == \"A\":\n",
    "        (a0, a1) = (get_f_AB(0,B)* get_f_DA(D, 0), get_f_AB(1,B)* get_f_DA(D, 1))\n",
    "        (a0, a1) = normalize(a0, a1)\n",
    "        A = resample(a0)\n",
    "    elif curr_sample_var == \"C\":\n",
    "        (c0, c1) = (get_f_BC(B,0)*get_f_CD(0,D), get_f_BC(B,1)*get_f_CD(1,D))\n",
    "        (c0, c1) = normalize(c0, c1)\n",
    "        C = resample(c0)\n",
    "    elif curr_sample_var == \"D\":\n",
    "        (d0, d1) = (get_f_CD(C, 0)* get_f_DA(0, A), get_f_CD(C, 1)* get_f_DA(1, A))\n",
    "        (d0, d1) = normalize(d0, d1)\n",
    "        D = resample(d0)\n",
    "    return A,C,D"
   ]
  },
  {
   "cell_type": "code",
   "execution_count": 294,
   "metadata": {},
   "outputs": [],
   "source": [
    "def next_sample_var(curr_var):\n",
    "    return choice([\"A\", \"C\", \"D\"])"
   ]
  },
  {
   "cell_type": "code",
   "execution_count": 295,
   "metadata": {},
   "outputs": [],
   "source": [
    "a0_num = 0\n",
    "a1_num = 0\n",
    "sample_size = 1000000\n",
    "curr_sample_var = \"A\"\n",
    "B = 1  # fixed, observed value\n",
    "\n",
    "# randomly initialize values for A,C,D\n",
    "A = choice([0, 1])\n",
    "C = choice([0, 1])\n",
    "D = choice([0, 1])\n",
    "\n",
    "\n",
    "# probA[0] = probability of a0 given b1\n",
    "# probA[1] = probability of a1 given b1\n",
    "probA = [[],[]]"
   ]
  },
  {
   "cell_type": "code",
   "execution_count": 296,
   "metadata": {},
   "outputs": [],
   "source": [
    "for i in range(1, sample_size + 1):\n",
    "    if A == 0:\n",
    "        a0_num += 1\n",
    "    elif A == 1:\n",
    "        a1_num += 1\n",
    "    probA[0].append(a0_num/i)\n",
    "    probA[1].append(a1_num/i)\n",
    "    \n",
    "    # select next variable to sample on\n",
    "    curr_sample_var = next_sample_var(curr_sample_var)\n",
    "    (A, C, D) = generate_sample(curr_sample_var, A,C,D)"
   ]
  },
  {
   "cell_type": "code",
   "execution_count": 309,
   "metadata": {},
   "outputs": [
    {
     "name": "stdout",
     "output_type": "stream",
     "text": [
      "The estimate of P(A=a0|b1) using Gibbs Sampling with 1000000 samples is: 0.94343\n"
     ]
    }
   ],
   "source": [
    "GS_a0 = probA[0][sample_size-1]\n",
    "print(\"The estimate of P(A=a0|b1) using Gibbs Sampling with {} samples is: {:.5}\"\n",
    "        .format(sample_size, GS_a0))"
   ]
  },
  {
   "cell_type": "code",
   "execution_count": 307,
   "metadata": {},
   "outputs": [
    {
     "name": "stdout",
     "output_type": "stream",
     "text": [
      "The estimate of P(A=a1|b1) using Gibbs Sampling with 1000000 samples is: 0.056574\n"
     ]
    }
   ],
   "source": [
    "GS_a1 = probA[1][sample_size-1]\n",
    "print(\"The estimate of P(A=a1|b1) using Gibbs Sampling with {} samples is: {:.5}\"\n",
    "        .format(sample_size,GS_a1))"
   ]
  },
  {
   "cell_type": "code",
   "execution_count": 308,
   "metadata": {},
   "outputs": [
    {
     "data": {
      "image/png": "[encoded data removed]",
      "text/plain": [
       "<Figure size 432x288 with 1 Axes>"
      ]
     },
     "metadata": {
      "needs_background": "light"
     },
     "output_type": "display_data"
    }
   ],
   "source": [
    "x = list(range(1, sample_size+1))\n",
    "y0 = probA[0]\n",
    "y1 = probA[1]\n",
    "\n",
    "# P(a0|b1) from Question 1 part a \n",
    "ve_a0 = 5001500/5301510\n",
    "\n",
    "# P(a1|b1) from Question 1 part a \n",
    "ve_a1 = 300010/5301510\n",
    "\n",
    "plt.plot(x,y0, c = \"r\")\n",
    "plt.axhline(ve_a0, c = \"g\")\n",
    "plt.plot(x,y1, c = \"b\")\n",
    "plt.axhline(ve_a1, c = \"orange\")\n",
    "plt.legend(labels = [\"Gibbs: P(a0|b1)\",\"VE: P(a0|b1)\",\n",
    "                    \"Gibbs: P(a1|b1)\", \"VE: P(a1|b1)\"])\n",
    "plt.title('Approximation of P(A|b1) using Gibbs sampling vs number of samples') \n",
    "plt.xlabel('Number of samples')\n",
    "plt.ylabel('P(A|b1)')\n",
    "plt.xscale(\"log\")\n",
    "plt.show()"
   ]
  }
 ],
 "metadata": {
  "kernelspec": {
   "display_name": "Python 3.9 (tensorflow)",
   "language": "python",
   "name": "tensorflow"
  },
  "language_info": {
   "codemirror_mode": {
    "name": "ipython",
    "version": 3
   },
   "file_extension": ".py",
   "mimetype": "text/x-python",
   "name": "python",
   "nbconvert_exporter": "python",
   "pygments_lexer": "ipython3",
   "version": "3.9.12"
  }
 },
 "nbformat": 4,
 "nbformat_minor": 2
}
