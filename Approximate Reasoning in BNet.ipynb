{
 "cells": [
  {
   "cell_type": "markdown",
   "metadata": {},
   "source": [
    "## Question 2 \n",
    "\n",
    "### Part a\n",
    "\n",
    "##### (1)"
   ]
  },
  {
   "cell_type": "code",
   "execution_count": 1,
   "metadata": {},
   "outputs": [],
   "source": [
    "import pandas as pd\n",
    "import numpy as np\n",
    "import math\n",
    "from matplotlib import pyplot as plt"
   ]
  },
  {
   "cell_type": "code",
   "execution_count": 2,
   "metadata": {},
   "outputs": [
    {
     "data": {
      "text/html": [
       "<div>\n",
       "<style scoped>\n",
       "    .dataframe tbody tr th:only-of-type {\n",
       "        vertical-align: middle;\n",
       "    }\n",
       "\n",
       "    .dataframe tbody tr th {\n",
       "        vertical-align: top;\n",
       "    }\n",
       "\n",
       "    .dataframe thead th {\n",
       "        text-align: right;\n",
       "    }\n",
       "</style>\n",
       "<table border=\"1\" class=\"dataframe\">\n",
       "  <thead>\n",
       "    <tr style=\"text-align: right;\">\n",
       "      <th></th>\n",
       "      <th>data</th>\n",
       "    </tr>\n",
       "  </thead>\n",
       "  <tbody>\n",
       "    <tr>\n",
       "      <th>0</th>\n",
       "      <td>-1</td>\n",
       "    </tr>\n",
       "    <tr>\n",
       "      <th>1</th>\n",
       "      <td>2</td>\n",
       "    </tr>\n",
       "    <tr>\n",
       "      <th>2</th>\n",
       "      <td>-1</td>\n",
       "    </tr>\n",
       "    <tr>\n",
       "      <th>3</th>\n",
       "      <td>-1</td>\n",
       "    </tr>\n",
       "    <tr>\n",
       "      <th>4</th>\n",
       "      <td>-1</td>\n",
       "    </tr>\n",
       "  </tbody>\n",
       "</table>\n",
       "</div>"
      ],
      "text/plain": [
       "   data\n",
       "0    -1\n",
       "1     2\n",
       "2    -1\n",
       "3    -1\n",
       "4    -1"
      ]
     },
     "execution_count": 2,
     "metadata": {},
     "output_type": "execute_result"
    }
   ],
   "source": [
    "rs_samples = pd.read_csv('samples/rs_1.csv', names= ['data'])\n",
    "rs_samples.head()"
   ]
  },
  {
   "cell_type": "code",
   "execution_count": 3,
   "metadata": {},
   "outputs": [],
   "source": [
    "length = len(rs_samples)"
   ]
  },
  {
   "cell_type": "code",
   "execution_count": 4,
   "metadata": {},
   "outputs": [],
   "source": [
    "def approxProbability(samples):\n",
    "    acceptedNum = 0\n",
    "    trueRainNum = 0\n",
    "    y = [None]\n",
    "    answer = []\n",
    "    for i in range(1,length):\n",
    "        #1: accepted sample with R = T\n",
    "        if samples[i] == 1:\n",
    "            acceptedNum += 1\n",
    "            trueRainNum += 1\n",
    "        #2: accepted sample with R = F\n",
    "        elif samples[i] == 2:\n",
    "            acceptedNum += 1\n",
    "        y.append(trueRainNum / acceptedNum)\n",
    "\n",
    "    # answer[0] = y\n",
    "    answer.append(y)\n",
    "    # answer[1] = acceptedNum\n",
    "    answer.append(acceptedNum)\n",
    "    return answer\n",
    "    \n"
   ]
  },
  {
   "cell_type": "code",
   "execution_count": 5,
   "metadata": {},
   "outputs": [
    {
     "data": {
      "image/png": "[encoded data removed]",
      "text/plain": [
       "<Figure size 432x288 with 1 Axes>"
      ]
     },
     "metadata": {
      "needs_background": "light"
     },
     "output_type": "display_data"
    }
   ],
   "source": [
    "x = rs_samples.index\n",
    "y = approxProbability(list(rs_samples['data']))[0]\n",
    "plt.plot(x,y,linewidth = 0.8)\n",
    "plt.title('Approximation of P(r|s,w) based on the first N samples')\n",
    "plt.xlabel('Number of generated samples N')\n",
    "plt.ylabel('P(r|s,w)')\n",
    "plt.xscale('log')"
   ]
  },
  {
   "cell_type": "markdown",
   "metadata": {},
   "source": [
    "##### (2)"
   ]
  },
  {
   "cell_type": "code",
   "execution_count": 6,
   "metadata": {},
   "outputs": [
    {
     "name": "stdout",
     "output_type": "stream",
     "text": [
      "The algorithm's approximation of P(r|s,w) using 100000 samples is: 0.319814\n"
     ]
    }
   ],
   "source": [
    "approx = y[length - 1]\n",
    "print(\"The algorithm's approximation of P(r|s,w) using 100000 samples is: {:.6}\".format(approx))"
   ]
  },
  {
   "cell_type": "markdown",
   "metadata": {},
   "source": [
    "### Part b\n",
    "##### (1)\n",
    "Using Hoeffding's inequality to derive the tighest bound $\\epsilon$, we have:\n",
    "\n",
    "\\begin{align*} \n",
    "2e^{-2n\\epsilon^2} &< \\delta\\\\\n",
    "e^{-2n\\epsilon^2} &< \\frac{\\delta}{2} \\\\ \n",
    "\\frac{1}{e^{2n\\epsilon^2}} &< \\frac{\\delta}{2} \\\\ \n",
    "\\frac{2}{\\delta} &< e^{2n\\epsilon^2} \\\\\n",
    "\\ln{(\\frac{2}{\\delta})} &< \\ln{(e^{2n\\epsilon^2})} \\\\\n",
    "\\ln{(\\frac{2}{\\delta})} &< 2n\\epsilon^2 \\\\\n",
    "\\epsilon^2 &> \\frac{\\ln{(\\frac{2}{\\delta})}}{2n} \\\\\n",
    "\\epsilon &> \\sqrt{\\frac{\\ln{(\\frac{2}{\\delta})}}{2n}}\n",
    "\\end{align*}"
   ]
  },
  {
   "cell_type": "markdown",
   "metadata": {},
   "source": [
    "##### (2)"
   ]
  },
  {
   "cell_type": "code",
   "execution_count": 7,
   "metadata": {},
   "outputs": [
    {
     "name": "stdout",
     "output_type": "stream",
     "text": [
      "At N=100000, there are n=27910 accepted samples.\n"
     ]
    }
   ],
   "source": [
    "acceptedSampleNum = approxProbability(list(rs_samples['data']))[1]\n",
    "print(\"At N=100000, there are n={} accepted samples.\".format(acceptedSampleNum))"
   ]
  },
  {
   "cell_type": "markdown",
   "metadata": {},
   "source": [
    "##### (3)"
   ]
  },
  {
   "cell_type": "code",
   "execution_count": 8,
   "metadata": {},
   "outputs": [],
   "source": [
    "def computeEpsilon(n):\n",
    "    delta = 0.05\n",
    "    return math.sqrt(math.log(2/delta)/(2*n))"
   ]
  },
  {
   "cell_type": "markdown",
   "metadata": {},
   "source": [
    "Given $n = 27910$ and $\\delta = 0.05$, we have:"
   ]
  },
  {
   "cell_type": "code",
   "execution_count": 9,
   "metadata": {},
   "outputs": [
    {
     "name": "stdout",
     "output_type": "stream",
     "text": [
      "The value of ε for n=27910 is 0.00812928.\n"
     ]
    }
   ],
   "source": [
    "epsilon = computeEpsilon(27910)\n",
    "print(\"The value of ε for n=27910 is {:.6}.\".format(epsilon))"
   ]
  },
  {
   "cell_type": "markdown",
   "metadata": {},
   "source": [
    "\n",
    "\n",
    "\n",
    "\n",
    "\n",
    "\n",
    "##### (4)"
   ]
  },
  {
   "cell_type": "code",
   "execution_count": 10,
   "metadata": {},
   "outputs": [],
   "source": [
    "def upToPointEpsilons(samples):\n",
    "    acceptedNum = 0\n",
    "    e = [None]\n",
    "    for i in range(1,length):\n",
    "        if samples[i] == 1 or samples[i] == 2:\n",
    "            acceptedNum += 1\n",
    "        currEpsilon = computeEpsilon(acceptedNum,)\n",
    "        e.append(currEpsilon)\n",
    "\n",
    "    return e\n"
   ]
  },
  {
   "cell_type": "code",
   "execution_count": 11,
   "metadata": {},
   "outputs": [],
   "source": [
    "def confidenceBounds(s, e):\n",
    "    size = len(s)\n",
    "    upperBound = [None]\n",
    "    lowerBound = [None]\n",
    "    bounds = []\n",
    "    # probability should be in [0,1]\n",
    "    for i in range(1,size):\n",
    "        upperBound.append(min(s[i]+e[i],1))  # upper bound <=1\n",
    "        lowerBound.append(max(s[i]-e[i],0))  # lower bound >=0\n",
    "    \n",
    "    # bounds[0] = upperBound\n",
    "    bounds.append(upperBound)\n",
    "    # bounds[1] = lowerBound\n",
    "    bounds.append(lowerBound)\n",
    "\n",
    "    return bounds\n"
   ]
  },
  {
   "cell_type": "code",
   "execution_count": 12,
   "metadata": {},
   "outputs": [],
   "source": [
    "s = approxProbability(list(rs_samples['data']))[0]\n",
    "e = upToPointEpsilons(list(rs_samples['data']))\n",
    "upperBound = confidenceBounds(s,e)[0]\n",
    "lowerBound = confidenceBounds(s,e)[1]"
   ]
  },
  {
   "cell_type": "code",
   "execution_count": 13,
   "metadata": {},
   "outputs": [
    {
     "data": {
      "image/png": "[encoded data removed]",
      "text/plain": [
       "<Figure size 432x288 with 1 Axes>"
      ]
     },
     "metadata": {
      "needs_background": "light"
     },
     "output_type": "display_data"
    }
   ],
   "source": [
    "x = rs_samples.index\n",
    "\n",
    "plt.plot(x,upperBound,linewidth = 0.7, c = 'r')\n",
    "plt.plot(x,s,linewidth = 0.7)\n",
    "plt.plot(x,lowerBound,linewidth = 0.7, c = 'g')\n",
    "\n",
    "plt.legend(labels = ['Upper Bound', 'Approximation', 'Lower Bound'])\n",
    "plt.title('Upper Bound, Approximation, Lower Bound of P(r|s,w) based on the first N samples')\n",
    "plt.xlabel('Number of generated samples N')\n",
    "plt.ylabel('P(r|s,w)')\n",
    "plt.xscale('log')"
   ]
  },
  {
   "cell_type": "markdown",
   "metadata": {},
   "source": [
    "### Part c\n",
    "\n",
    "##### (1)"
   ]
  },
  {
   "cell_type": "code",
   "execution_count": 14,
   "metadata": {},
   "outputs": [
    {
     "data": {
      "text/html": [
       "<div>\n",
       "<style scoped>\n",
       "    .dataframe tbody tr th:only-of-type {\n",
       "        vertical-align: middle;\n",
       "    }\n",
       "\n",
       "    .dataframe tbody tr th {\n",
       "        vertical-align: top;\n",
       "    }\n",
       "\n",
       "    .dataframe thead th {\n",
       "        text-align: right;\n",
       "    }\n",
       "</style>\n",
       "<table border=\"1\" class=\"dataframe\">\n",
       "  <thead>\n",
       "    <tr style=\"text-align: right;\">\n",
       "      <th></th>\n",
       "      <th>samples</th>\n",
       "      <th>weights</th>\n",
       "    </tr>\n",
       "  </thead>\n",
       "  <tbody>\n",
       "    <tr>\n",
       "      <th>1</th>\n",
       "      <td>2</td>\n",
       "      <td>0.450</td>\n",
       "    </tr>\n",
       "    <tr>\n",
       "      <th>2</th>\n",
       "      <td>1</td>\n",
       "      <td>0.495</td>\n",
       "    </tr>\n",
       "    <tr>\n",
       "      <th>3</th>\n",
       "      <td>2</td>\n",
       "      <td>0.090</td>\n",
       "    </tr>\n",
       "    <tr>\n",
       "      <th>4</th>\n",
       "      <td>2</td>\n",
       "      <td>0.450</td>\n",
       "    </tr>\n",
       "    <tr>\n",
       "      <th>5</th>\n",
       "      <td>2</td>\n",
       "      <td>0.450</td>\n",
       "    </tr>\n",
       "  </tbody>\n",
       "</table>\n",
       "</div>"
      ],
      "text/plain": [
       "   samples  weights\n",
       "1        2    0.450\n",
       "2        1    0.495\n",
       "3        2    0.090\n",
       "4        2    0.450\n",
       "5        2    0.450"
      ]
     },
     "execution_count": 14,
     "metadata": {},
     "output_type": "execute_result"
    }
   ],
   "source": [
    "lw_samples = pd.read_csv('samples/lw_1.csv', names= ['samples', 'weights'])\n",
    "# 1 based index\n",
    "lw_samples.index += 1\n",
    "lw_samples.head()"
   ]
  },
  {
   "cell_type": "code",
   "execution_count": 15,
   "metadata": {},
   "outputs": [],
   "source": [
    "# 1 denotes R=T\n",
    "# 2 denotes R=F\n",
    "def lwProbability(samples, weights):\n",
    "    tSampleWeights = 0\n",
    "    totalWeights = 0\n",
    "    y = []\n",
    "    for i in range(0, len(samples)):\n",
    "        totalWeights += weights[i]\n",
    "        if samples[i] == 1:\n",
    "            tSampleWeights += weights[i]\n",
    "        y.append(tSampleWeights/totalWeights)\n",
    "    return y\n"
   ]
  },
  {
   "cell_type": "code",
   "execution_count": 16,
   "metadata": {},
   "outputs": [
    {
     "name": "stdout",
     "output_type": "stream",
     "text": [
      "The algorithm's approximation of P(r|s,w) using 100000 samples is: 0.321788\n"
     ]
    }
   ],
   "source": [
    "lw_y = lwProbability(list(lw_samples['samples']), list(lw_samples['weights']))\n",
    "lwApprox = lw_y[len(lw_y) - 1]\n",
    "print(\"The algorithm's approximation of P(r|s,w) using 100000 samples is: {:.6}\".format(lwApprox))"
   ]
  },
  {
   "cell_type": "markdown",
   "metadata": {},
   "source": [
    "##### (2)"
   ]
  },
  {
   "cell_type": "code",
   "execution_count": 17,
   "metadata": {},
   "outputs": [
    {
     "data": {
      "image/png": "[encoded data removed]",
      "text/plain": [
       "<Figure size 432x288 with 1 Axes>"
      ]
     },
     "metadata": {
      "needs_background": "light"
     },
     "output_type": "display_data"
    }
   ],
   "source": [
    "lw_x = lw_samples.index\n",
    "lw_y = lwProbability(list(lw_samples['samples']), list(lw_samples['weights']))\n",
    "plt.plot(lw_x,lw_y,linewidth = 0.7)\n",
    "plt.title('Approximation of P(r|s,w) based on the first N samples using likelihood weighting')\n",
    "plt.xlabel('Number of generated samples N')\n",
    "plt.ylabel('P(r|s,w)')\n",
    "plt.xscale('log')"
   ]
  },
  {
   "cell_type": "markdown",
   "metadata": {},
   "source": [
    "##### (3)"
   ]
  },
  {
   "cell_type": "markdown",
   "metadata": {},
   "source": [
    "The likelihood weigting algorithm seems to converge faster, especially when $N > 10^3$, whereas rejection sampling algorithm tends to converge when $N > 10^4$."
   ]
  }
 ],
 "metadata": {
  "kernelspec": {
   "display_name": "Python 3 (ipykernel)",
   "language": "python",
   "name": "python3"
  },
  "language_info": {
   "codemirror_mode": {
    "name": "ipython",
    "version": 3
   },
   "file_extension": ".py",
   "mimetype": "text/x-python",
   "name": "python",
   "nbconvert_exporter": "python",
   "pygments_lexer": "ipython3",
   "version": "3.9.12"
  },
  "vscode": {
   "interpreter": {
    "hash": "16faddcf52335c31ecfe89368c019c219a10938ed04cd05ed9775a66508374e3"
   }
  }
 },
 "nbformat": 4,
 "nbformat_minor": 2
}
