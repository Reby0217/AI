{
 "cells": [
  {
   "cell_type": "code",
   "execution_count": 6,
   "metadata": {},
   "outputs": [],
   "source": [
    "import pandas as pd\n",
    "import matplotlib.pyplot as plt\n",
    "import statistics"
   ]
  },
  {
   "cell_type": "code",
   "execution_count": 7,
   "metadata": {},
   "outputs": [
    {
     "name": "stdout",
     "output_type": "stream",
     "text": [
      "Results:\n"
     ]
    },
    {
     "data": {
      "text/html": [
       "<div>\n",
       "<style scoped>\n",
       "    .dataframe tbody tr th:only-of-type {\n",
       "        vertical-align: middle;\n",
       "    }\n",
       "\n",
       "    .dataframe tbody tr th {\n",
       "        vertical-align: top;\n",
       "    }\n",
       "\n",
       "    .dataframe thead th {\n",
       "        text-align: right;\n",
       "    }\n",
       "</style>\n",
       "<table border=\"1\" class=\"dataframe\">\n",
       "  <thead>\n",
       "    <tr style=\"text-align: right;\">\n",
       "      <th></th>\n",
       "      <th>C/N Ratio</th>\n",
       "      <th># Successful Terminations</th>\n",
       "      <th>Median Flips</th>\n",
       "    </tr>\n",
       "  </thead>\n",
       "  <tbody>\n",
       "    <tr>\n",
       "      <th>0</th>\n",
       "      <td>1</td>\n",
       "      <td>50</td>\n",
       "      <td>2.0</td>\n",
       "    </tr>\n",
       "    <tr>\n",
       "      <th>1</th>\n",
       "      <td>2</td>\n",
       "      <td>50</td>\n",
       "      <td>3.5</td>\n",
       "    </tr>\n",
       "    <tr>\n",
       "      <th>2</th>\n",
       "      <td>3</td>\n",
       "      <td>50</td>\n",
       "      <td>9.0</td>\n",
       "    </tr>\n",
       "    <tr>\n",
       "      <th>3</th>\n",
       "      <td>4</td>\n",
       "      <td>41</td>\n",
       "      <td>28.0</td>\n",
       "    </tr>\n",
       "    <tr>\n",
       "      <th>4</th>\n",
       "      <td>5</td>\n",
       "      <td>14</td>\n",
       "      <td>63.5</td>\n",
       "    </tr>\n",
       "    <tr>\n",
       "      <th>5</th>\n",
       "      <td>6</td>\n",
       "      <td>6</td>\n",
       "      <td>56.5</td>\n",
       "    </tr>\n",
       "    <tr>\n",
       "      <th>6</th>\n",
       "      <td>7</td>\n",
       "      <td>0</td>\n",
       "      <td>NaN</td>\n",
       "    </tr>\n",
       "    <tr>\n",
       "      <th>7</th>\n",
       "      <td>8</td>\n",
       "      <td>0</td>\n",
       "      <td>NaN</td>\n",
       "    </tr>\n",
       "    <tr>\n",
       "      <th>8</th>\n",
       "      <td>9</td>\n",
       "      <td>0</td>\n",
       "      <td>NaN</td>\n",
       "    </tr>\n",
       "    <tr>\n",
       "      <th>9</th>\n",
       "      <td>10</td>\n",
       "      <td>0</td>\n",
       "      <td>NaN</td>\n",
       "    </tr>\n",
       "  </tbody>\n",
       "</table>\n",
       "</div>"
      ],
      "text/plain": [
       "   C/N Ratio  # Successful Terminations  Median Flips\n",
       "0          1                         50           2.0\n",
       "1          2                         50           3.5\n",
       "2          3                         50           9.0\n",
       "3          4                         41          28.0\n",
       "4          5                         14          63.5\n",
       "5          6                          6          56.5\n",
       "6          7                          0           NaN\n",
       "7          8                          0           NaN\n",
       "8          9                          0           NaN\n",
       "9         10                          0           NaN"
      ]
     },
     "execution_count": 7,
     "metadata": {},
     "output_type": "execute_result"
    }
   ],
   "source": [
    "def getSummaryInfo():\n",
    "    CNRatio = range(1,11)\n",
    "    numSuccessful = []\n",
    "    medianFlips = []\n",
    "    for i in range (1,11):\n",
    "        data = pd.read_csv(f'/Users/rebeccaliu/Desktop/data/{i}.csv')\n",
    "        successes = list(data[data['numFlips']>-1]['numFlips'])\n",
    "        numSuccesses = len(successes)\n",
    "        numSuccessful.append(numSuccesses)\n",
    "        if numSuccesses == 0:\n",
    "            medianFlips.append(None)\n",
    "        else:\n",
    "            medianFlips.append(statistics.median(successes))          \n",
    "        \n",
    "    return pd.DataFrame(data={\"C/N Ratio\": CNRatio, \"# Successful Terminations\": numSuccessful, \"Median Flips\": medianFlips})\n",
    "\n",
    "summaryInfo = getSummaryInfo()\n",
    "print(\"Results:\")\n",
    "summaryInfo\n"
   ]
  },
  {
   "cell_type": "code",
   "execution_count": 10,
   "metadata": {},
   "outputs": [
    {
     "data": {
      "image/png": "[encoded data removed]",
      "text/plain": [
       "<Figure size 432x288 with 1 Axes>"
      ]
     },
     "metadata": {
      "needs_background": "light"
     },
     "output_type": "display_data"
    }
   ],
   "source": [
    "def plotNumSuccessfulTerminations(summaryInfo):\n",
    "    plt.plot(summaryInfo['C/N Ratio'], summaryInfo['# Successful Terminations'], marker='o')\n",
    "    plt.xlabel(\"The ratio C/N\")\n",
    "    plt.ylabel(\"Number of successful terminations\")\n",
    "    plt.title(\"Number of Successful WalkSAT Terminations vs. the C/N ratio\")\n",
    "    plt.show()\n",
    "plotNumSuccessfulTerminations(summaryInfo)"
   ]
  },
  {
   "cell_type": "code",
   "execution_count": 9,
   "metadata": {},
   "outputs": [
    {
     "data": {
      "image/png": "[encoded data removed]",
      "text/plain": [
       "<Figure size 432x288 with 1 Axes>"
      ]
     },
     "metadata": {
      "needs_background": "light"
     },
     "output_type": "display_data"
    }
   ],
   "source": [
    "def plotMedianFlips(summaryInfo):\n",
    "    plt.plot(summaryInfo['C/N Ratio'], summaryInfo['Median Flips'], marker='o')\n",
    "    plt.xlabel(\"The ratio C/N\")\n",
    "    plt.ylabel(\"Median number of 'flips'\")\n",
    "    plt.title(\"Median number of 'flips' vs. the C/N ratio\")\n",
    "    plt.show()\n",
    "\n",
    "plotMedianFlips(summaryInfo)"
   ]
  }
 ],
 "metadata": {
  "kernelspec": {
   "display_name": "Python 3.9 (tensorflow)",
   "language": "python",
   "name": "tensorflow"
  },
  "language_info": {
   "codemirror_mode": {
    "name": "ipython",
    "version": 3
   },
   "file_extension": ".py",
   "mimetype": "text/x-python",
   "name": "python",
   "nbconvert_exporter": "python",
   "pygments_lexer": "ipython3",
   "version": "3.9.12"
  },
  "orig_nbformat": 4
 },
 "nbformat": 4,
 "nbformat_minor": 2
}
